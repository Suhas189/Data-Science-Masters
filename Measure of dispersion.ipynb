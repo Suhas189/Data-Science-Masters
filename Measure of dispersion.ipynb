{
 "cells": [
  {
   "cell_type": "markdown",
   "id": "34a9810e-b1f8-4e2d-a7e3-66025a04ca56",
   "metadata": {},
   "source": [
    "1. Variance \n",
    "2. Standard Deviation"
   ]
  },
  {
   "cell_type": "code",
   "execution_count": 2,
   "id": "73739cb7-99e6-4687-8c2c-79372a7ede5e",
   "metadata": {},
   "outputs": [],
   "source": [
    "ages_lst=[12,43,42,11,65,55,76,33,54]"
   ]
  },
  {
   "cell_type": "code",
   "execution_count": 3,
   "id": "b5aa4a33-bff6-4bae-995d-f657b068fc62",
   "metadata": {},
   "outputs": [
    {
     "data": {
      "text/plain": [
       "[12, 43, 42, 11, 65, 55, 76, 33, 54]"
      ]
     },
     "execution_count": 3,
     "metadata": {},
     "output_type": "execute_result"
    }
   ],
   "source": [
    "ages_lst"
   ]
  },
  {
   "cell_type": "code",
   "execution_count": 4,
   "id": "fd93f5b4-f35b-43c7-be13-3ecc0e4f1a78",
   "metadata": {},
   "outputs": [
    {
     "data": {
      "text/plain": [
       "43.44444444444444"
      ]
     },
     "execution_count": 4,
     "metadata": {},
     "output_type": "execute_result"
    }
   ],
   "source": [
    "import numpy as np\n",
    "np.mean(ages_lst)"
   ]
  },
  {
   "cell_type": "code",
   "execution_count": 5,
   "id": "37626cf5-f258-45a4-a05c-496275cf791d",
   "metadata": {},
   "outputs": [
    {
     "data": {
      "text/plain": [
       "43.0"
      ]
     },
     "execution_count": 5,
     "metadata": {},
     "output_type": "execute_result"
    }
   ],
   "source": [
    "np.median(ages_lst)"
   ]
  },
  {
   "cell_type": "code",
   "execution_count": 6,
   "id": "215cece3-c944-48f7-9c49-eb59d57228d9",
   "metadata": {},
   "outputs": [
    {
     "data": {
      "text/plain": [
       "435.8024691358025"
      ]
     },
     "execution_count": 6,
     "metadata": {},
     "output_type": "execute_result"
    }
   ],
   "source": [
    "np.var(ages_lst)"
   ]
  },
  {
   "cell_type": "code",
   "execution_count": 7,
   "id": "f3487ef5-6b58-4397-be05-1b3135922ffd",
   "metadata": {},
   "outputs": [
    {
     "data": {
      "text/plain": [
       "20.875882475617708"
      ]
     },
     "execution_count": 7,
     "metadata": {},
     "output_type": "execute_result"
    }
   ],
   "source": [
    "np.std(ages_lst)"
   ]
  },
  {
   "cell_type": "code",
   "execution_count": 9,
   "id": "f71eeb83-1d50-46d9-900b-268e0beaf39a",
   "metadata": {},
   "outputs": [],
   "source": [
    "weights=[[12,12,42],[32,12,53],[44,23,76]]"
   ]
  },
  {
   "cell_type": "code",
   "execution_count": 12,
   "id": "d18dbef5-67dd-4527-bb40-ba1a3db0da59",
   "metadata": {},
   "outputs": [],
   "source": [
    "import pandas as pd\n",
    "df=pd.DataFrame(weights, columns=['a','b','c'])"
   ]
  },
  {
   "cell_type": "code",
   "execution_count": 13,
   "id": "2dd87f81-d046-4c84-8238-8c1ed68e4316",
   "metadata": {},
   "outputs": [
    {
     "data": {
      "text/html": [
       "<div>\n",
       "<style scoped>\n",
       "    .dataframe tbody tr th:only-of-type {\n",
       "        vertical-align: middle;\n",
       "    }\n",
       "\n",
       "    .dataframe tbody tr th {\n",
       "        vertical-align: top;\n",
       "    }\n",
       "\n",
       "    .dataframe thead th {\n",
       "        text-align: right;\n",
       "    }\n",
       "</style>\n",
       "<table border=\"1\" class=\"dataframe\">\n",
       "  <thead>\n",
       "    <tr style=\"text-align: right;\">\n",
       "      <th></th>\n",
       "      <th>a</th>\n",
       "      <th>b</th>\n",
       "      <th>c</th>\n",
       "    </tr>\n",
       "  </thead>\n",
       "  <tbody>\n",
       "    <tr>\n",
       "      <th>0</th>\n",
       "      <td>12</td>\n",
       "      <td>12</td>\n",
       "      <td>42</td>\n",
       "    </tr>\n",
       "    <tr>\n",
       "      <th>1</th>\n",
       "      <td>32</td>\n",
       "      <td>12</td>\n",
       "      <td>53</td>\n",
       "    </tr>\n",
       "    <tr>\n",
       "      <th>2</th>\n",
       "      <td>44</td>\n",
       "      <td>23</td>\n",
       "      <td>76</td>\n",
       "    </tr>\n",
       "  </tbody>\n",
       "</table>\n",
       "</div>"
      ],
      "text/plain": [
       "    a   b   c\n",
       "0  12  12  42\n",
       "1  32  12  53\n",
       "2  44  23  76"
      ]
     },
     "execution_count": 13,
     "metadata": {},
     "output_type": "execute_result"
    }
   ],
   "source": [
    "df"
   ]
  },
  {
   "cell_type": "code",
   "execution_count": 14,
   "id": "7d027b5d-6140-46db-81b9-1522e96f66d6",
   "metadata": {},
   "outputs": [
    {
     "ename": "TypeError",
     "evalue": "_var_dispatcher() missing 1 required positional argument: 'a'",
     "output_type": "error",
     "traceback": [
      "\u001b[0;31m---------------------------------------------------------------------------\u001b[0m",
      "\u001b[0;31mTypeError\u001b[0m                                 Traceback (most recent call last)",
      "Cell \u001b[0;32mIn[14], line 1\u001b[0m\n\u001b[0;32m----> 1\u001b[0m \u001b[43mnp\u001b[49m\u001b[38;5;241;43m.\u001b[39;49m\u001b[43mvar\u001b[49m\u001b[43m(\u001b[49m\u001b[43m)\u001b[49m\n",
      "File \u001b[0;32m<__array_function__ internals>:179\u001b[0m, in \u001b[0;36mvar\u001b[0;34m(*args, **kwargs)\u001b[0m\n",
      "\u001b[0;31mTypeError\u001b[0m: _var_dispatcher() missing 1 required positional argument: 'a'"
     ]
    }
   ],
   "source": [
    "np.var(weights)"
   ]
  },
  {
   "cell_type": "code",
   "execution_count": null,
   "id": "6302b548-136d-4894-bfec-f7ab37108796",
   "metadata": {},
   "outputs": [],
   "source": []
  }
 ],
 "metadata": {
  "kernelspec": {
   "display_name": "Python 3 (ipykernel)",
   "language": "python",
   "name": "python3"
  },
  "language_info": {
   "codemirror_mode": {
    "name": "ipython",
    "version": 3
   },
   "file_extension": ".py",
   "mimetype": "text/x-python",
   "name": "python",
   "nbconvert_exporter": "python",
   "pygments_lexer": "ipython3",
   "version": "3.10.8"
  }
 },
 "nbformat": 4,
 "nbformat_minor": 5
}
