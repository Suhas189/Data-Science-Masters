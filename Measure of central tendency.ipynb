{
 "cells": [
  {
   "cell_type": "markdown",
   "id": "e27ebfb4-9220-4a8d-9689-f642df3eeff3",
   "metadata": {},
   "source": [
    "#Measure of central tendency"
   ]
  },
  {
   "cell_type": "code",
   "execution_count": null,
   "id": "b49d645c-c90c-40b8-b7dd-af8540be821b",
   "metadata": {},
   "outputs": [],
   "source": [
    "#1.Calculte the mean"
   ]
  },
  {
   "cell_type": "code",
   "execution_count": 1,
   "id": "77a24794-6c21-41c3-9abd-a809854f7a82",
   "metadata": {},
   "outputs": [],
   "source": [
    "weights=[22,14,52,12,55,42,22,76]"
   ]
  },
  {
   "cell_type": "code",
   "execution_count": 2,
   "id": "3b21dada-8097-43f0-9635-7120bd19e7af",
   "metadata": {},
   "outputs": [
    {
     "data": {
      "text/plain": [
       "[22, 14, 52, 12, 55, 42, 22, 76]"
      ]
     },
     "execution_count": 2,
     "metadata": {},
     "output_type": "execute_result"
    }
   ],
   "source": [
    "weights"
   ]
  },
  {
   "cell_type": "code",
   "execution_count": 3,
   "id": "904ae0da-0cc9-434b-89f3-556b831aef2f",
   "metadata": {},
   "outputs": [
    {
     "data": {
      "text/plain": [
       "36.875"
      ]
     },
     "execution_count": 3,
     "metadata": {},
     "output_type": "execute_result"
    }
   ],
   "source": [
    "(22+14+52+12+55+42+22+76)/8"
   ]
  },
  {
   "cell_type": "code",
   "execution_count": 4,
   "id": "2787d116-fdb8-4ea9-9858-459ef0f6db03",
   "metadata": {},
   "outputs": [
    {
     "data": {
      "text/plain": [
       "36.875"
      ]
     },
     "execution_count": 4,
     "metadata": {},
     "output_type": "execute_result"
    }
   ],
   "source": [
    "import numpy as np\n",
    "np.mean(weights)"
   ]
  },
  {
   "cell_type": "code",
   "execution_count": 5,
   "id": "b4ea1b4d-7dda-40a9-98cc-ecd83f7dac98",
   "metadata": {},
   "outputs": [
    {
     "data": {
      "text/plain": [
       "32.0"
      ]
     },
     "execution_count": 5,
     "metadata": {},
     "output_type": "execute_result"
    }
   ],
   "source": [
    "np.median(weights)"
   ]
  },
  {
   "cell_type": "code",
   "execution_count": 6,
   "id": "2bdc6aaa-c8ee-4d39-b85c-19025e699355",
   "metadata": {},
   "outputs": [],
   "source": [
    "weights1=[22,14,52,12,55,42,22,76,500]"
   ]
  },
  {
   "cell_type": "code",
   "execution_count": 7,
   "id": "d155b479-1b6d-4832-b571-a9b7cba36013",
   "metadata": {},
   "outputs": [
    {
     "data": {
      "text/plain": [
       "[22, 14, 52, 12, 55, 42, 22, 76, 500]"
      ]
     },
     "execution_count": 7,
     "metadata": {},
     "output_type": "execute_result"
    }
   ],
   "source": [
    "weights1"
   ]
  },
  {
   "cell_type": "code",
   "execution_count": 8,
   "id": "30316926-8977-4ec3-a2b0-9986d2b0ff33",
   "metadata": {},
   "outputs": [
    {
     "data": {
      "text/plain": [
       "88.33333333333333"
      ]
     },
     "execution_count": 8,
     "metadata": {},
     "output_type": "execute_result"
    }
   ],
   "source": [
    "np.mean(weights1)"
   ]
  },
  {
   "cell_type": "code",
   "execution_count": 9,
   "id": "ac444c0d-eacc-450e-a4a8-ee5f9a1b95f6",
   "metadata": {},
   "outputs": [
    {
     "data": {
      "text/plain": [
       "42.0"
      ]
     },
     "execution_count": 9,
     "metadata": {},
     "output_type": "execute_result"
    }
   ],
   "source": [
    "np.median(weights1)"
   ]
  },
  {
   "cell_type": "code",
   "execution_count": null,
   "id": "b2cd7a5a-6ffd-4a4c-8b67-19a6ed57b857",
   "metadata": {},
   "outputs": [],
   "source": [
    "#Due to outlier there is a huge diffe"
   ]
  }
 ],
 "metadata": {
  "kernelspec": {
   "display_name": "Python 3 (ipykernel)",
   "language": "python",
   "name": "python3"
  },
  "language_info": {
   "codemirror_mode": {
    "name": "ipython",
    "version": 3
   },
   "file_extension": ".py",
   "mimetype": "text/x-python",
   "name": "python",
   "nbconvert_exporter": "python",
   "pygments_lexer": "ipython3",
   "version": "3.10.8"
  }
 },
 "nbformat": 4,
 "nbformat_minor": 5
}
